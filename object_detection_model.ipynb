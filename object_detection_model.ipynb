{
  "cells": [
    {
      "cell_type": "code",
      "execution_count": 16,
      "metadata": {
        "id": "3o7DgpPG3Wmn"
      },
      "outputs": [],
      "source": [
        "import numpy as np\n",
        "import tensorflow as tf\n",
        "import tensorflow_datasets as tfds\n",
        "import matplotlib.pyplot as plt"
      ]
    },
    {
      "cell_type": "code",
      "execution_count": 17,
      "metadata": {
        "id": "_eDDKxC63mtB"
      },
      "outputs": [],
      "source": [
        "(train_ds, test_ds,valid_ds), info = tfds.load(\n",
        "    \"kitti\",\n",
        "    split=['train','test', 'validation'],\n",
        "    as_supervised=False,\n",
        "    with_info=True,\n",
        "    download = True,\n",
        ")"
      ]
    },
    {
      "cell_type": "code",
      "execution_count": 18,
      "metadata": {
        "id": "0XQ4ib5X8P9S",
        "colab": {
          "base_uri": "https://localhost:8080/"
        },
        "outputId": "b7c55085-6239-4d98-e1d0-a81e4d76ddfd"
      },
      "outputs": [
        {
          "output_type": "execute_result",
          "data": {
            "text/plain": [
              "tfds.core.DatasetInfo(\n",
              "    name='kitti',\n",
              "    full_name='kitti/3.3.0',\n",
              "    description=\"\"\"\n",
              "    Kitti contains a suite of vision tasks built using an autonomous driving\n",
              "    platform. The full benchmark contains many tasks such as stereo, optical flow,\n",
              "    visual odometry, etc. This dataset contains the object detection dataset,\n",
              "    including the monocular images and bounding boxes. The dataset contains 7481\n",
              "    training images annotated with 3D bounding boxes. A full description of the\n",
              "    annotations can be found in the readme of the object development kit readme on\n",
              "    the Kitti homepage.\n",
              "    \"\"\",\n",
              "    homepage='http://www.cvlibs.net/datasets/kitti/',\n",
              "    data_dir='/root/tensorflow_datasets/kitti/3.3.0',\n",
              "    file_format=tfrecord,\n",
              "    download_size=11.71 GiB,\n",
              "    dataset_size=5.27 GiB,\n",
              "    features=FeaturesDict({\n",
              "        'image': Image(shape=(None, None, 3), dtype=uint8),\n",
              "        'image/file_name': Text(shape=(), dtype=string),\n",
              "        'objects': Sequence({\n",
              "            'alpha': float32,\n",
              "            'bbox': BBoxFeature(shape=(4,), dtype=float32),\n",
              "            'dimensions': Tensor(shape=(3,), dtype=float32),\n",
              "            'location': Tensor(shape=(3,), dtype=float32),\n",
              "            'occluded': ClassLabel(shape=(), dtype=int64, num_classes=4),\n",
              "            'rotation_y': float32,\n",
              "            'truncated': float32,\n",
              "            'type': ClassLabel(shape=(), dtype=int64, num_classes=8),\n",
              "        }),\n",
              "    }),\n",
              "    supervised_keys=None,\n",
              "    disable_shuffling=False,\n",
              "    splits={\n",
              "        'test': <SplitInfo num_examples=711, num_shards=4>,\n",
              "        'train': <SplitInfo num_examples=6347, num_shards=64>,\n",
              "        'validation': <SplitInfo num_examples=423, num_shards=4>,\n",
              "    },\n",
              "    citation=\"\"\"@inproceedings{Geiger2012CVPR,\n",
              "      author = {Andreas Geiger and Philip Lenz and Raquel Urtasun},\n",
              "      title = {Are we ready for Autonomous Driving? The KITTI Vision Benchmark Suite},\n",
              "      booktitle = {Conference on Computer Vision and Pattern Recognition (CVPR)},\n",
              "      year = {2012}\n",
              "    }\"\"\",\n",
              ")"
            ]
          },
          "metadata": {},
          "execution_count": 18
        }
      ],
      "source": [
        "info"
      ]
    },
    {
      "cell_type": "code",
      "execution_count": 19,
      "metadata": {
        "id": "MQkm19L-8V4l",
        "colab": {
          "base_uri": "https://localhost:8080/"
        },
        "outputId": "3d45897f-c9c7-4647-8663-ef75fb9d8e85"
      },
      "outputs": [
        {
          "output_type": "stream",
          "name": "stdout",
          "text": [
            "Occluded labels: ['fully visible', 'partly occluded', 'largely occluded', 'unknown']\n",
            "Type labels: ['Car', 'Van', 'Truck', 'Pedestrian', 'Person_sitting', 'Cyclist', 'Tram', 'Misc']\n",
            "Number of classes: 4 8\n",
            "['Car' 'Cyclist' 'Misc' 'Pedestrian' 'Person_sitting' 'Tram' 'Truck' 'Van']\n"
          ]
        }
      ],
      "source": [
        "occluded_labels = info.features['objects']['occluded'].names\n",
        "type_labels = info.features['objects']['type'].names\n",
        "\n",
        "print(\"Occluded labels:\", occluded_labels)\n",
        "print(\"Type labels:\", type_labels)\n",
        "print(\"Number of classes:\", len(occluded_labels) , len(type_labels))\n",
        "print(np.unique(type_labels))"
      ]
    },
    {
      "cell_type": "code",
      "source": [
        "import random\n",
        "random.seed(42)\n",
        "tf.random.set_seed(42)\n",
        "np.random.seed(42)"
      ],
      "metadata": {
        "id": "--8gQ6wVNwRg"
      },
      "execution_count": 20,
      "outputs": []
    },
    {
      "cell_type": "code",
      "source": [
        "# Define model structure\n",
        "model = tf.keras.Sequential()\n",
        "pretrained_model = tf.keras.applications.ResNet50(\n",
        "    include_top=False,\n",
        "    weights=\"imagenet\",\n",
        "    input_shape=(224, 224, 3),\n",
        "    pooling=\"avg\",\n",
        ")\n",
        "\n",
        "# Freeze layers of pretrained model\n",
        "for layer in pretrained_model.layers:\n",
        "    layer.trainable = False\n",
        "\n",
        "\n",
        "model.add(pretrained_model)\n",
        "model.add(tf.keras.layers.Dense(512, activation=\"relu\"))\n",
        "model.add(tf.keras.layers.Dense(8, activation=\"softmax\"))"
      ],
      "metadata": {
        "id": "rBmerUP-NjSl"
      },
      "execution_count": 21,
      "outputs": []
    },
    {
      "cell_type": "code",
      "source": [
        "# Compile the model\n",
        "model.compile(optimizer=\"adam\", loss=\"sparse_categorical_crossentropy\", metrics=[\"accuracy\"])"
      ],
      "metadata": {
        "id": "mFgml9NElZqn"
      },
      "execution_count": 22,
      "outputs": []
    },
    {
      "cell_type": "code",
      "source": [
        "class CustomCallback(tf.keras.callbacks.Callback):\n",
        "    def on_epoch_end(self,epoch,logs=None):\n",
        "        if logs.get('val_accuracy')>=0.90:\n",
        "            self.model.stop_training = True"
      ],
      "metadata": {
        "id": "x-uCY1QYM73F"
      },
      "execution_count": 23,
      "outputs": []
    },
    {
      "cell_type": "code",
      "source": [
        "# Function to ensure labels are correctly formatted as single integers\n",
        "def preprocess_image(data):\n",
        "    image = data.get(\"image\")\n",
        "    labels = data.get(\"objects\")[\"occluded\"]\n",
        "\n",
        "    if image is None or labels is None:\n",
        "        raise ValueError(\"Image or labels are None\")\n",
        "\n",
        "    # Resize image\n",
        "    image = tf.image.resize(image, [224, 224])\n",
        "    image = tf.keras.applications.resnet50.preprocess_input(image)\n",
        "\n",
        "    # Ensure label is a single integer\n",
        "    label = labels[0] if len(labels.shape) > 0 else labels\n",
        "\n",
        "    return image, label\n",
        "# Apply preprocessing, batch, and prefetch to datasets\n",
        "train_ds = train_ds.map(preprocess_image, num_parallel_calls=tf.data.AUTOTUNE).batch(32).prefetch(tf.data.AUTOTUNE)\n",
        "test_ds = test_ds.map(preprocess_image, num_parallel_calls=tf.data.AUTOTUNE).batch(32).prefetch(tf.data.AUTOTUNE)\n",
        "valid_ds = valid_ds.map(preprocess_image, num_parallel_calls=tf.data.AUTOTUNE).batch(32).prefetch(tf.data.AUTOTUNE)\n",
        "# calling callback\n",
        "callback = CustomCallback()\n",
        "# Fit the model\n",
        "r = model.fit(train_ds, epochs=10, validation_data=valid_ds,callbacks=[callback])"
      ],
      "metadata": {
        "colab": {
          "base_uri": "https://localhost:8080/"
        },
        "id": "mb3hkyicOHzy",
        "outputId": "043ee91a-e782-4d74-ad20-39ede38bb728"
      },
      "execution_count": 24,
      "outputs": [
        {
          "output_type": "stream",
          "name": "stdout",
          "text": [
            "Epoch 1/10\n",
            "\u001b[1m199/199\u001b[0m \u001b[32m━━━━━━━━━━━━━━━━━━━━\u001b[0m\u001b[37m\u001b[0m \u001b[1m162s\u001b[0m 727ms/step - accuracy: 0.7869 - loss: 0.9693 - val_accuracy: 0.8865 - val_loss: 0.2780\n",
            "Epoch 2/10\n",
            "\u001b[1m199/199\u001b[0m \u001b[32m━━━━━━━━━━━━━━━━━━━━\u001b[0m\u001b[37m\u001b[0m \u001b[1m161s\u001b[0m 792ms/step - accuracy: 0.8572 - loss: 0.4362 - val_accuracy: 0.8865 - val_loss: 0.2889\n",
            "Epoch 3/10\n",
            "\u001b[1m199/199\u001b[0m \u001b[32m━━━━━━━━━━━━━━━━━━━━\u001b[0m\u001b[37m\u001b[0m \u001b[1m218s\u001b[0m 876ms/step - accuracy: 0.8744 - loss: 0.3637 - val_accuracy: 0.8889 - val_loss: 0.2981\n",
            "Epoch 4/10\n",
            "\u001b[1m199/199\u001b[0m \u001b[32m━━━━━━━━━━━━━━━━━━━━\u001b[0m\u001b[37m\u001b[0m \u001b[1m142s\u001b[0m 704ms/step - accuracy: 0.8855 - loss: 0.3167 - val_accuracy: 0.8842 - val_loss: 0.3203\n",
            "Epoch 5/10\n",
            "\u001b[1m199/199\u001b[0m \u001b[32m━━━━━━━━━━━━━━━━━━━━\u001b[0m\u001b[37m\u001b[0m \u001b[1m142s\u001b[0m 702ms/step - accuracy: 0.8973 - loss: 0.2874 - val_accuracy: 0.8913 - val_loss: 0.3615\n",
            "Epoch 6/10\n",
            "\u001b[1m199/199\u001b[0m \u001b[32m━━━━━━━━━━━━━━━━━━━━\u001b[0m\u001b[37m\u001b[0m \u001b[1m200s\u001b[0m 698ms/step - accuracy: 0.9055 - loss: 0.2654 - val_accuracy: 0.8889 - val_loss: 0.3688\n",
            "Epoch 7/10\n",
            "\u001b[1m199/199\u001b[0m \u001b[32m━━━━━━━━━━━━━━━━━━━━\u001b[0m\u001b[37m\u001b[0m \u001b[1m139s\u001b[0m 680ms/step - accuracy: 0.9140 - loss: 0.2416 - val_accuracy: 0.8747 - val_loss: 0.4088\n",
            "Epoch 8/10\n",
            "\u001b[1m199/199\u001b[0m \u001b[32m━━━━━━━━━━━━━━━━━━━━\u001b[0m\u001b[37m\u001b[0m \u001b[1m140s\u001b[0m 696ms/step - accuracy: 0.9251 - loss: 0.2130 - val_accuracy: 0.8794 - val_loss: 0.4403\n",
            "Epoch 9/10\n",
            "\u001b[1m199/199\u001b[0m \u001b[32m━━━━━━━━━━━━━━━━━━━━\u001b[0m\u001b[37m\u001b[0m \u001b[1m141s\u001b[0m 688ms/step - accuracy: 0.9321 - loss: 0.1921 - val_accuracy: 0.8842 - val_loss: 0.5259\n",
            "Epoch 10/10\n",
            "\u001b[1m199/199\u001b[0m \u001b[32m━━━━━━━━━━━━━━━━━━━━\u001b[0m\u001b[37m\u001b[0m \u001b[1m141s\u001b[0m 704ms/step - accuracy: 0.9231 - loss: 0.2021 - val_accuracy: 0.8771 - val_loss: 0.4967\n"
          ]
        }
      ]
    },
    {
      "cell_type": "code",
      "source": [
        "# Evaluate on test set\n",
        "test_loss, test_accuracy = model.evaluate(test_ds)\n",
        "print(f\"Test accuracy: {test_accuracy * 100:.2f}%\")"
      ],
      "metadata": {
        "colab": {
          "base_uri": "https://localhost:8080/"
        },
        "id": "QyPmZx3km3m0",
        "outputId": "1d3177bf-049c-4d46-fd34-b39a0f336ac1"
      },
      "execution_count": 25,
      "outputs": [
        {
          "output_type": "stream",
          "name": "stdout",
          "text": [
            "\u001b[1m23/23\u001b[0m \u001b[32m━━━━━━━━━━━━━━━━━━━━\u001b[0m\u001b[37m\u001b[0m \u001b[1m17s\u001b[0m 714ms/step - accuracy: 0.9469 - loss: 0.2503\n",
            "Test accuracy: 94.66%\n"
          ]
        }
      ]
    },
    {
      "cell_type": "code",
      "source": [
        "plt.plot(r.history['accuracy'])\n",
        "plt.plot(r.history['val_accuracy'])\n",
        "plt.xlabel('Epochs')\n",
        "plt.ylabel('accuracy')\n",
        "plt.title('model accuracy')\n",
        "plt.legend([\"train accuracy\",\"val_accuracy\"])\n",
        "plt.show()"
      ],
      "metadata": {
        "colab": {
          "base_uri": "https://localhost:8080/",
          "height": 472
        },
        "id": "s70ylJ3wUYjT",
        "outputId": "ff9bdd9b-8adc-4999-ae8d-51c58eae105f"
      },
      "execution_count": 26,
      "outputs": [
        {
          "output_type": "display_data",
          "data": {
            "text/plain": [
              "<Figure size 640x480 with 1 Axes>"
            ],
            "image/png": "[encoded data removed]"
          },
          "metadata": {}
        }
      ]
    },
    {
      "cell_type": "code",
      "source": [
        "plt.plot(r.history['loss'])\n",
        "plt.plot(r.history['val_loss'])\n",
        "plt.xlabel('Epochs')\n",
        "plt.ylabel('loss')\n",
        "plt.title('model losses')\n",
        "plt.legend([\"train loss\",\"val_loss\"])\n",
        "plt.show()"
      ],
      "metadata": {
        "colab": {
          "base_uri": "https://localhost:8080/",
          "height": 472
        },
        "id": "fR64wCVyVTuk",
        "outputId": "d99f05ec-7c7e-476a-8654-31957ba8b1b6"
      },
      "execution_count": 27,
      "outputs": [
        {
          "output_type": "display_data",
          "data": {
            "text/plain": [
              "<Figure size 640x480 with 1 Axes>"
            ],
            "image/png": "[encoded data removed]"
          },
          "metadata": {}
        }
      ]
    },
    {
      "cell_type": "code",
      "source": [
        "converter = tf.lite.TFLiteConverter.from_keras_model(model)\n",
        "tflite_model = converter.convert()\n",
        "with open('model.tflite','wb') as f:\n",
        "  f.write(tflite_model)"
      ],
      "metadata": {
        "colab": {
          "base_uri": "https://localhost:8080/"
        },
        "id": "-nybMSDOVl9L",
        "outputId": "ebf8a037-1328-4a91-888b-b190a863d5af"
      },
      "execution_count": 28,
      "outputs": [
        {
          "output_type": "stream",
          "name": "stdout",
          "text": [
            "Saved artifact at '/tmp/tmpmttfqxwh'. The following endpoints are available:\n",
            "\n",
            "* Endpoint 'serve'\n",
            "  args_0 (POSITIONAL_ONLY): TensorSpec(shape=(None, 224, 224, 3), dtype=tf.float32, name='keras_tensor_356')\n",
            "Output Type:\n",
            "  TensorSpec(shape=(None, 8), dtype=tf.float32, name=None)\n",
            "Captures:\n",
            "  137906140106240: TensorSpec(shape=(), dtype=tf.resource, name=None)\n",
            "  137906140111344: TensorSpec(shape=(), dtype=tf.resource, name=None)\n",
            "  137906140110816: TensorSpec(shape=(), dtype=tf.resource, name=None)\n",
            "  137906140107296: TensorSpec(shape=(), dtype=tf.resource, name=None)\n",
            "  137906140106416: TensorSpec(shape=(), dtype=tf.resource, name=None)\n",
            "  137906140114864: TensorSpec(shape=(), dtype=tf.resource, name=None)\n",
            "  137906116440688: TensorSpec(shape=(), dtype=tf.resource, name=None)\n",
            "  137906070219136: TensorSpec(shape=(), dtype=tf.resource, name=None)\n",
            "  137906103557584: TensorSpec(shape=(), dtype=tf.resource, name=None)\n",
            "  137906103558288: TensorSpec(shape=(), dtype=tf.resource, name=None)\n",
            "  137906103551952: TensorSpec(shape=(), dtype=tf.resource, name=None)\n",
            "  137906103556352: TensorSpec(shape=(), dtype=tf.resource, name=None)\n",
            "  137906103561104: TensorSpec(shape=(), dtype=tf.resource, name=None)\n",
            "  137906103563744: TensorSpec(shape=(), dtype=tf.resource, name=None)\n",
            "  137906103561808: TensorSpec(shape=(), dtype=tf.resource, name=None)\n",
            "  137906103565328: TensorSpec(shape=(), dtype=tf.resource, name=None)\n",
            "  137906103562688: TensorSpec(shape=(), dtype=tf.resource, name=None)\n",
            "  137906103563216: TensorSpec(shape=(), dtype=tf.resource, name=None)\n",
            "  137906104404624: TensorSpec(shape=(), dtype=tf.resource, name=None)\n",
            "  137906104407264: TensorSpec(shape=(), dtype=tf.resource, name=None)\n",
            "  137906139336016: TensorSpec(shape=(), dtype=tf.resource, name=None)\n",
            "  137906139645376: TensorSpec(shape=(), dtype=tf.resource, name=None)\n",
            "  137906139647488: TensorSpec(shape=(), dtype=tf.resource, name=None)\n",
            "  137906070933520: TensorSpec(shape=(), dtype=tf.resource, name=None)\n",
            "  137906139654880: TensorSpec(shape=(), dtype=tf.resource, name=None)\n",
            "  137906139653472: TensorSpec(shape=(), dtype=tf.resource, name=None)\n",
            "  137906104405328: TensorSpec(shape=(), dtype=tf.resource, name=None)\n",
            "  137906104408848: TensorSpec(shape=(), dtype=tf.resource, name=None)\n",
            "  137906104406208: TensorSpec(shape=(), dtype=tf.resource, name=None)\n",
            "  137906104406736: TensorSpec(shape=(), dtype=tf.resource, name=None)\n",
            "  137906104413600: TensorSpec(shape=(), dtype=tf.resource, name=None)\n",
            "  137906104416240: TensorSpec(shape=(), dtype=tf.resource, name=None)\n",
            "  137906104402512: TensorSpec(shape=(), dtype=tf.resource, name=None)\n",
            "  137906104417824: TensorSpec(shape=(), dtype=tf.resource, name=None)\n",
            "  137906104415184: TensorSpec(shape=(), dtype=tf.resource, name=None)\n",
            "  137906104415712: TensorSpec(shape=(), dtype=tf.resource, name=None)\n",
            "  137906103569568: TensorSpec(shape=(), dtype=tf.resource, name=None)\n",
            "  137906103572208: TensorSpec(shape=(), dtype=tf.resource, name=None)\n",
            "  137906103570272: TensorSpec(shape=(), dtype=tf.resource, name=None)\n",
            "  137906103573792: TensorSpec(shape=(), dtype=tf.resource, name=None)\n",
            "  137906103571152: TensorSpec(shape=(), dtype=tf.resource, name=None)\n",
            "  137906103571680: TensorSpec(shape=(), dtype=tf.resource, name=None)\n",
            "  137906103577312: TensorSpec(shape=(), dtype=tf.resource, name=None)\n",
            "  137906103579952: TensorSpec(shape=(), dtype=tf.resource, name=None)\n",
            "  137906103578016: TensorSpec(shape=(), dtype=tf.resource, name=None)\n",
            "  137906103581536: TensorSpec(shape=(), dtype=tf.resource, name=None)\n",
            "  137906103578896: TensorSpec(shape=(), dtype=tf.resource, name=None)\n",
            "  137906103579424: TensorSpec(shape=(), dtype=tf.resource, name=None)\n",
            "  137906082303664: TensorSpec(shape=(), dtype=tf.resource, name=None)\n",
            "  137906082306304: TensorSpec(shape=(), dtype=tf.resource, name=None)\n",
            "  137906082304368: TensorSpec(shape=(), dtype=tf.resource, name=None)\n",
            "  137906082307888: TensorSpec(shape=(), dtype=tf.resource, name=None)\n",
            "  137906082305248: TensorSpec(shape=(), dtype=tf.resource, name=None)\n",
            "  137906082305776: TensorSpec(shape=(), dtype=tf.resource, name=None)\n",
            "  137906082311408: TensorSpec(shape=(), dtype=tf.resource, name=None)\n",
            "  137906082314048: TensorSpec(shape=(), dtype=tf.resource, name=None)\n",
            "  137906082306128: TensorSpec(shape=(), dtype=tf.resource, name=None)\n",
            "  137906082315632: TensorSpec(shape=(), dtype=tf.resource, name=None)\n",
            "  137906082312992: TensorSpec(shape=(), dtype=tf.resource, name=None)\n",
            "  137906082313520: TensorSpec(shape=(), dtype=tf.resource, name=None)\n",
            "  137906081975280: TensorSpec(shape=(), dtype=tf.resource, name=None)\n",
            "  137906081977920: TensorSpec(shape=(), dtype=tf.resource, name=None)\n",
            "  137906081975984: TensorSpec(shape=(), dtype=tf.resource, name=None)\n",
            "  137906081979504: TensorSpec(shape=(), dtype=tf.resource, name=None)\n",
            "  137906081976864: TensorSpec(shape=(), dtype=tf.resource, name=None)\n",
            "  137906081977392: TensorSpec(shape=(), dtype=tf.resource, name=None)\n",
            "  137906081499440: TensorSpec(shape=(), dtype=tf.resource, name=None)\n",
            "  137906081502080: TensorSpec(shape=(), dtype=tf.resource, name=None)\n",
            "  137906081500144: TensorSpec(shape=(), dtype=tf.resource, name=None)\n",
            "  137906081503664: TensorSpec(shape=(), dtype=tf.resource, name=None)\n",
            "  137906081501728: TensorSpec(shape=(), dtype=tf.resource, name=None)\n",
            "  137906081501552: TensorSpec(shape=(), dtype=tf.resource, name=None)\n",
            "  137906081507184: TensorSpec(shape=(), dtype=tf.resource, name=None)\n",
            "  137906081509824: TensorSpec(shape=(), dtype=tf.resource, name=None)\n",
            "  137906081507888: TensorSpec(shape=(), dtype=tf.resource, name=None)\n",
            "  137906081511408: TensorSpec(shape=(), dtype=tf.resource, name=None)\n",
            "  137906081508768: TensorSpec(shape=(), dtype=tf.resource, name=None)\n",
            "  137906081509296: TensorSpec(shape=(), dtype=tf.resource, name=None)\n",
            "  137906081941104: TensorSpec(shape=(), dtype=tf.resource, name=None)\n",
            "  137906081943744: TensorSpec(shape=(), dtype=tf.resource, name=None)\n",
            "  137906081984256: TensorSpec(shape=(), dtype=tf.resource, name=None)\n",
            "  137906081986896: TensorSpec(shape=(), dtype=tf.resource, name=None)\n",
            "  137906081973168: TensorSpec(shape=(), dtype=tf.resource, name=None)\n",
            "  137906081986192: TensorSpec(shape=(), dtype=tf.resource, name=None)\n",
            "  137906081985840: TensorSpec(shape=(), dtype=tf.resource, name=None)\n",
            "  137906081986368: TensorSpec(shape=(), dtype=tf.resource, name=None)\n",
            "  137906081941808: TensorSpec(shape=(), dtype=tf.resource, name=None)\n",
            "  137906081945328: TensorSpec(shape=(), dtype=tf.resource, name=None)\n",
            "  137906081942688: TensorSpec(shape=(), dtype=tf.resource, name=None)\n",
            "  137906081943216: TensorSpec(shape=(), dtype=tf.resource, name=None)\n",
            "  137906081950080: TensorSpec(shape=(), dtype=tf.resource, name=None)\n",
            "  137906081952720: TensorSpec(shape=(), dtype=tf.resource, name=None)\n",
            "  137906081950784: TensorSpec(shape=(), dtype=tf.resource, name=None)\n",
            "  137906081954304: TensorSpec(shape=(), dtype=tf.resource, name=None)\n",
            "  137906081951664: TensorSpec(shape=(), dtype=tf.resource, name=None)\n",
            "  137906081952192: TensorSpec(shape=(), dtype=tf.resource, name=None)\n",
            "  137906081761408: TensorSpec(shape=(), dtype=tf.resource, name=None)\n",
            "  137906081764048: TensorSpec(shape=(), dtype=tf.resource, name=None)\n",
            "  137906081762112: TensorSpec(shape=(), dtype=tf.resource, name=None)\n",
            "  137906081765632: TensorSpec(shape=(), dtype=tf.resource, name=None)\n",
            "  137906081762992: TensorSpec(shape=(), dtype=tf.resource, name=None)\n",
            "  137906081763520: TensorSpec(shape=(), dtype=tf.resource, name=None)\n",
            "  137906081769152: TensorSpec(shape=(), dtype=tf.resource, name=None)\n",
            "  137906081771792: TensorSpec(shape=(), dtype=tf.resource, name=None)\n",
            "  137906081769856: TensorSpec(shape=(), dtype=tf.resource, name=None)\n",
            "  137906081773376: TensorSpec(shape=(), dtype=tf.resource, name=None)\n",
            "  137906081770736: TensorSpec(shape=(), dtype=tf.resource, name=None)\n",
            "  137906081771264: TensorSpec(shape=(), dtype=tf.resource, name=None)\n",
            "  137906082122384: TensorSpec(shape=(), dtype=tf.resource, name=None)\n",
            "  137906082125024: TensorSpec(shape=(), dtype=tf.resource, name=None)\n",
            "  137906082123088: TensorSpec(shape=(), dtype=tf.resource, name=None)\n",
            "  137906082126608: TensorSpec(shape=(), dtype=tf.resource, name=None)\n",
            "  137906082123968: TensorSpec(shape=(), dtype=tf.resource, name=None)\n",
            "  137906082124496: TensorSpec(shape=(), dtype=tf.resource, name=None)\n",
            "  137906082130128: TensorSpec(shape=(), dtype=tf.resource, name=None)\n",
            "  137906082132768: TensorSpec(shape=(), dtype=tf.resource, name=None)\n",
            "  137906082130832: TensorSpec(shape=(), dtype=tf.resource, name=None)\n",
            "  137906082134352: TensorSpec(shape=(), dtype=tf.resource, name=None)\n",
            "  137906082131712: TensorSpec(shape=(), dtype=tf.resource, name=None)\n",
            "  137906082132240: TensorSpec(shape=(), dtype=tf.resource, name=None)\n",
            "  137906082449360: TensorSpec(shape=(), dtype=tf.resource, name=None)\n",
            "  137906082452000: TensorSpec(shape=(), dtype=tf.resource, name=None)\n",
            "  137906082450064: TensorSpec(shape=(), dtype=tf.resource, name=None)\n",
            "  137906082453584: TensorSpec(shape=(), dtype=tf.resource, name=None)\n",
            "  137906082450944: TensorSpec(shape=(), dtype=tf.resource, name=None)\n",
            "  137906082451472: TensorSpec(shape=(), dtype=tf.resource, name=None)\n",
            "  137906082458336: TensorSpec(shape=(), dtype=tf.resource, name=None)\n",
            "  137906082460976: TensorSpec(shape=(), dtype=tf.resource, name=None)\n",
            "  137906082450416: TensorSpec(shape=(), dtype=tf.resource, name=None)\n",
            "  137906082462560: TensorSpec(shape=(), dtype=tf.resource, name=None)\n",
            "  137906082459920: TensorSpec(shape=(), dtype=tf.resource, name=None)\n",
            "  137906082460448: TensorSpec(shape=(), dtype=tf.resource, name=None)\n",
            "  137906081810912: TensorSpec(shape=(), dtype=tf.resource, name=None)\n",
            "  137906081813552: TensorSpec(shape=(), dtype=tf.resource, name=None)\n",
            "  137906081811616: TensorSpec(shape=(), dtype=tf.resource, name=None)\n",
            "  137906081815136: TensorSpec(shape=(), dtype=tf.resource, name=None)\n",
            "  137906081812496: TensorSpec(shape=(), dtype=tf.resource, name=None)\n",
            "  137906081813024: TensorSpec(shape=(), dtype=tf.resource, name=None)\n",
            "  137906081818656: TensorSpec(shape=(), dtype=tf.resource, name=None)\n",
            "  137906081821296: TensorSpec(shape=(), dtype=tf.resource, name=None)\n",
            "  137906081819360: TensorSpec(shape=(), dtype=tf.resource, name=None)\n",
            "  137906081822880: TensorSpec(shape=(), dtype=tf.resource, name=None)\n",
            "  137906081820240: TensorSpec(shape=(), dtype=tf.resource, name=None)\n",
            "  137906081820768: TensorSpec(shape=(), dtype=tf.resource, name=None)\n",
            "  137906082391744: TensorSpec(shape=(), dtype=tf.resource, name=None)\n",
            "  137906082394032: TensorSpec(shape=(), dtype=tf.resource, name=None)\n",
            "  137906082392096: TensorSpec(shape=(), dtype=tf.resource, name=None)\n",
            "  137906082395616: TensorSpec(shape=(), dtype=tf.resource, name=None)\n",
            "  137906082392976: TensorSpec(shape=(), dtype=tf.resource, name=None)\n",
            "  137906082393504: TensorSpec(shape=(), dtype=tf.resource, name=None)\n",
            "  137906081481472: TensorSpec(shape=(), dtype=tf.resource, name=None)\n",
            "  137906081484464: TensorSpec(shape=(), dtype=tf.resource, name=None)\n",
            "  137906081482528: TensorSpec(shape=(), dtype=tf.resource, name=None)\n",
            "  137906081486048: TensorSpec(shape=(), dtype=tf.resource, name=None)\n",
            "  137906081484112: TensorSpec(shape=(), dtype=tf.resource, name=None)\n",
            "  137906081483936: TensorSpec(shape=(), dtype=tf.resource, name=None)\n",
            "  137906081489568: TensorSpec(shape=(), dtype=tf.resource, name=None)\n",
            "  137906081492208: TensorSpec(shape=(), dtype=tf.resource, name=None)\n",
            "  137906082384880: TensorSpec(shape=(), dtype=tf.resource, name=None)\n",
            "  137906082387520: TensorSpec(shape=(), dtype=tf.resource, name=None)\n",
            "  137906082385584: TensorSpec(shape=(), dtype=tf.resource, name=None)\n",
            "  137906082389104: TensorSpec(shape=(), dtype=tf.resource, name=None)\n",
            "  137906082386464: TensorSpec(shape=(), dtype=tf.resource, name=None)\n",
            "  137906082386992: TensorSpec(shape=(), dtype=tf.resource, name=None)\n",
            "  137906081490272: TensorSpec(shape=(), dtype=tf.resource, name=None)\n",
            "  137906081493792: TensorSpec(shape=(), dtype=tf.resource, name=None)\n",
            "  137906081491152: TensorSpec(shape=(), dtype=tf.resource, name=None)\n",
            "  137906081491680: TensorSpec(shape=(), dtype=tf.resource, name=None)\n",
            "  137906082104944: TensorSpec(shape=(), dtype=tf.resource, name=None)\n",
            "  137906082107584: TensorSpec(shape=(), dtype=tf.resource, name=None)\n",
            "  137906082105648: TensorSpec(shape=(), dtype=tf.resource, name=None)\n",
            "  137906082109168: TensorSpec(shape=(), dtype=tf.resource, name=None)\n",
            "  137906082106528: TensorSpec(shape=(), dtype=tf.resource, name=None)\n",
            "  137906082107056: TensorSpec(shape=(), dtype=tf.resource, name=None)\n",
            "  137906082112688: TensorSpec(shape=(), dtype=tf.resource, name=None)\n",
            "  137906082115328: TensorSpec(shape=(), dtype=tf.resource, name=None)\n",
            "  137906082113392: TensorSpec(shape=(), dtype=tf.resource, name=None)\n",
            "  137906082117088: TensorSpec(shape=(), dtype=tf.resource, name=None)\n",
            "  137906082114624: TensorSpec(shape=(), dtype=tf.resource, name=None)\n",
            "  137906082115504: TensorSpec(shape=(), dtype=tf.resource, name=None)\n",
            "  137906081612544: TensorSpec(shape=(), dtype=tf.resource, name=None)\n",
            "  137906081615536: TensorSpec(shape=(), dtype=tf.resource, name=None)\n",
            "  137906081613600: TensorSpec(shape=(), dtype=tf.resource, name=None)\n",
            "  137906081617120: TensorSpec(shape=(), dtype=tf.resource, name=None)\n",
            "  137906081615184: TensorSpec(shape=(), dtype=tf.resource, name=None)\n",
            "  137906081615008: TensorSpec(shape=(), dtype=tf.resource, name=None)\n",
            "  137906081621872: TensorSpec(shape=(), dtype=tf.resource, name=None)\n",
            "  137906081624512: TensorSpec(shape=(), dtype=tf.resource, name=None)\n",
            "  137906081622576: TensorSpec(shape=(), dtype=tf.resource, name=None)\n",
            "  137906081626096: TensorSpec(shape=(), dtype=tf.resource, name=None)\n",
            "  137906081623456: TensorSpec(shape=(), dtype=tf.resource, name=None)\n",
            "  137906081623984: TensorSpec(shape=(), dtype=tf.resource, name=None)\n",
            "  137906081891952: TensorSpec(shape=(), dtype=tf.resource, name=None)\n",
            "  137906081894592: TensorSpec(shape=(), dtype=tf.resource, name=None)\n",
            "  137906081892656: TensorSpec(shape=(), dtype=tf.resource, name=None)\n",
            "  137906081896176: TensorSpec(shape=(), dtype=tf.resource, name=None)\n",
            "  137906081893536: TensorSpec(shape=(), dtype=tf.resource, name=None)\n",
            "  137906081894064: TensorSpec(shape=(), dtype=tf.resource, name=None)\n",
            "  137906081899696: TensorSpec(shape=(), dtype=tf.resource, name=None)\n",
            "  137906081902336: TensorSpec(shape=(), dtype=tf.resource, name=None)\n",
            "  137906081900400: TensorSpec(shape=(), dtype=tf.resource, name=None)\n",
            "  137906081903920: TensorSpec(shape=(), dtype=tf.resource, name=None)\n",
            "  137906081901280: TensorSpec(shape=(), dtype=tf.resource, name=None)\n",
            "  137906081901808: TensorSpec(shape=(), dtype=tf.resource, name=None)\n",
            "  137906071914624: TensorSpec(shape=(), dtype=tf.resource, name=None)\n",
            "  137906071917264: TensorSpec(shape=(), dtype=tf.resource, name=None)\n",
            "  137906071915328: TensorSpec(shape=(), dtype=tf.resource, name=None)\n",
            "  137906071918848: TensorSpec(shape=(), dtype=tf.resource, name=None)\n",
            "  137906071916208: TensorSpec(shape=(), dtype=tf.resource, name=None)\n",
            "  137906071916736: TensorSpec(shape=(), dtype=tf.resource, name=None)\n",
            "  137906071922368: TensorSpec(shape=(), dtype=tf.resource, name=None)\n",
            "  137906071925008: TensorSpec(shape=(), dtype=tf.resource, name=None)\n",
            "  137906071923072: TensorSpec(shape=(), dtype=tf.resource, name=None)\n",
            "  137906071926592: TensorSpec(shape=(), dtype=tf.resource, name=None)\n",
            "  137906071923952: TensorSpec(shape=(), dtype=tf.resource, name=None)\n",
            "  137906071924480: TensorSpec(shape=(), dtype=tf.resource, name=None)\n",
            "  137906071372896: TensorSpec(shape=(), dtype=tf.resource, name=None)\n",
            "  137906071375888: TensorSpec(shape=(), dtype=tf.resource, name=None)\n",
            "  137906071373952: TensorSpec(shape=(), dtype=tf.resource, name=None)\n",
            "  137906071377472: TensorSpec(shape=(), dtype=tf.resource, name=None)\n",
            "  137906071375536: TensorSpec(shape=(), dtype=tf.resource, name=None)\n",
            "  137906071375360: TensorSpec(shape=(), dtype=tf.resource, name=None)\n",
            "  137906071382224: TensorSpec(shape=(), dtype=tf.resource, name=None)\n",
            "  137906071384864: TensorSpec(shape=(), dtype=tf.resource, name=None)\n",
            "  137906071382928: TensorSpec(shape=(), dtype=tf.resource, name=None)\n",
            "  137906071386448: TensorSpec(shape=(), dtype=tf.resource, name=None)\n",
            "  137906071383808: TensorSpec(shape=(), dtype=tf.resource, name=None)\n",
            "  137906071384336: TensorSpec(shape=(), dtype=tf.resource, name=None)\n",
            "  137906071947216: TensorSpec(shape=(), dtype=tf.resource, name=None)\n",
            "  137906071949856: TensorSpec(shape=(), dtype=tf.resource, name=None)\n",
            "  137906071947920: TensorSpec(shape=(), dtype=tf.resource, name=None)\n",
            "  137906071951440: TensorSpec(shape=(), dtype=tf.resource, name=None)\n",
            "  137906071948800: TensorSpec(shape=(), dtype=tf.resource, name=None)\n",
            "  137906071949328: TensorSpec(shape=(), dtype=tf.resource, name=None)\n",
            "  137906071954960: TensorSpec(shape=(), dtype=tf.resource, name=None)\n",
            "  137906071957600: TensorSpec(shape=(), dtype=tf.resource, name=None)\n",
            "  137906071955664: TensorSpec(shape=(), dtype=tf.resource, name=None)\n",
            "  137906071959184: TensorSpec(shape=(), dtype=tf.resource, name=None)\n",
            "  137906071956544: TensorSpec(shape=(), dtype=tf.resource, name=None)\n",
            "  137906071957072: TensorSpec(shape=(), dtype=tf.resource, name=None)\n",
            "  137906071833056: TensorSpec(shape=(), dtype=tf.resource, name=None)\n",
            "  137906071835696: TensorSpec(shape=(), dtype=tf.resource, name=None)\n",
            "  137906071833760: TensorSpec(shape=(), dtype=tf.resource, name=None)\n",
            "  137906071837280: TensorSpec(shape=(), dtype=tf.resource, name=None)\n",
            "  137906071834640: TensorSpec(shape=(), dtype=tf.resource, name=None)\n",
            "  137906071835168: TensorSpec(shape=(), dtype=tf.resource, name=None)\n",
            "  137906071840800: TensorSpec(shape=(), dtype=tf.resource, name=None)\n",
            "  137906071843440: TensorSpec(shape=(), dtype=tf.resource, name=None)\n",
            "  137906071841504: TensorSpec(shape=(), dtype=tf.resource, name=None)\n",
            "  137906071845024: TensorSpec(shape=(), dtype=tf.resource, name=None)\n",
            "  137906071842384: TensorSpec(shape=(), dtype=tf.resource, name=None)\n",
            "  137906071842912: TensorSpec(shape=(), dtype=tf.resource, name=None)\n",
            "  137906071127840: TensorSpec(shape=(), dtype=tf.resource, name=None)\n",
            "  137906071130480: TensorSpec(shape=(), dtype=tf.resource, name=None)\n",
            "  137906071128544: TensorSpec(shape=(), dtype=tf.resource, name=None)\n",
            "  137906071132064: TensorSpec(shape=(), dtype=tf.resource, name=None)\n",
            "  137906071129424: TensorSpec(shape=(), dtype=tf.resource, name=None)\n",
            "  137906071129952: TensorSpec(shape=(), dtype=tf.resource, name=None)\n",
            "  137906071929600: TensorSpec(shape=(), dtype=tf.resource, name=None)\n",
            "  137906071932592: TensorSpec(shape=(), dtype=tf.resource, name=None)\n",
            "  137906071930656: TensorSpec(shape=(), dtype=tf.resource, name=None)\n",
            "  137906071934176: TensorSpec(shape=(), dtype=tf.resource, name=None)\n",
            "  137906071932240: TensorSpec(shape=(), dtype=tf.resource, name=None)\n",
            "  137906071932064: TensorSpec(shape=(), dtype=tf.resource, name=None)\n",
            "  137906071937696: TensorSpec(shape=(), dtype=tf.resource, name=None)\n",
            "  137906071940336: TensorSpec(shape=(), dtype=tf.resource, name=None)\n",
            "  137906071938400: TensorSpec(shape=(), dtype=tf.resource, name=None)\n",
            "  137906071941920: TensorSpec(shape=(), dtype=tf.resource, name=None)\n",
            "  137906071939280: TensorSpec(shape=(), dtype=tf.resource, name=None)\n",
            "  137906071939808: TensorSpec(shape=(), dtype=tf.resource, name=None)\n",
            "  137906071932416: TensorSpec(shape=(), dtype=tf.resource, name=None)\n",
            "  137906071093488: TensorSpec(shape=(), dtype=tf.resource, name=None)\n",
            "  137906071136816: TensorSpec(shape=(), dtype=tf.resource, name=None)\n",
            "  137906071139456: TensorSpec(shape=(), dtype=tf.resource, name=None)\n",
            "  137906071137520: TensorSpec(shape=(), dtype=tf.resource, name=None)\n",
            "  137906071141040: TensorSpec(shape=(), dtype=tf.resource, name=None)\n",
            "  137906071138400: TensorSpec(shape=(), dtype=tf.resource, name=None)\n",
            "  137906071138928: TensorSpec(shape=(), dtype=tf.resource, name=None)\n",
            "  137906071096128: TensorSpec(shape=(), dtype=tf.resource, name=None)\n",
            "  137906071096832: TensorSpec(shape=(), dtype=tf.resource, name=None)\n",
            "  137906071095952: TensorSpec(shape=(), dtype=tf.resource, name=None)\n",
            "  137906071095776: TensorSpec(shape=(), dtype=tf.resource, name=None)\n",
            "  137906071102640: TensorSpec(shape=(), dtype=tf.resource, name=None)\n",
            "  137906071105280: TensorSpec(shape=(), dtype=tf.resource, name=None)\n",
            "  137906071103344: TensorSpec(shape=(), dtype=tf.resource, name=None)\n",
            "  137906071106864: TensorSpec(shape=(), dtype=tf.resource, name=None)\n",
            "  137906071104224: TensorSpec(shape=(), dtype=tf.resource, name=None)\n",
            "  137906071104752: TensorSpec(shape=(), dtype=tf.resource, name=None)\n",
            "  137906071108800: TensorSpec(shape=(), dtype=tf.resource, name=None)\n",
            "  137906071457280: TensorSpec(shape=(), dtype=tf.resource, name=None)\n",
            "  137906071455344: TensorSpec(shape=(), dtype=tf.resource, name=None)\n",
            "  137906071458864: TensorSpec(shape=(), dtype=tf.resource, name=None)\n",
            "  137906071456928: TensorSpec(shape=(), dtype=tf.resource, name=None)\n",
            "  137906071456752: TensorSpec(shape=(), dtype=tf.resource, name=None)\n",
            "  137906071462384: TensorSpec(shape=(), dtype=tf.resource, name=None)\n",
            "  137906071465024: TensorSpec(shape=(), dtype=tf.resource, name=None)\n",
            "  137906071463088: TensorSpec(shape=(), dtype=tf.resource, name=None)\n",
            "  137906071466608: TensorSpec(shape=(), dtype=tf.resource, name=None)\n",
            "  137906071463968: TensorSpec(shape=(), dtype=tf.resource, name=None)\n",
            "  137906071464496: TensorSpec(shape=(), dtype=tf.resource, name=None)\n",
            "  137906071798880: TensorSpec(shape=(), dtype=tf.resource, name=None)\n",
            "  137906071801872: TensorSpec(shape=(), dtype=tf.resource, name=None)\n",
            "  137906070210160: TensorSpec(shape=(), dtype=tf.resource, name=None)\n",
            "  137906070211920: TensorSpec(shape=(), dtype=tf.resource, name=None)\n",
            "  137906071801520: TensorSpec(shape=(), dtype=tf.resource, name=None)\n",
            "  137906082113040: TensorSpec(shape=(), dtype=tf.resource, name=None)\n",
            "  137906069980432: TensorSpec(shape=(), dtype=tf.resource, name=None)\n",
            "  137906069988176: TensorSpec(shape=(), dtype=tf.resource, name=None)\n",
            "  137906069981664: TensorSpec(shape=(), dtype=tf.resource, name=None)\n",
            "  137906069986768: TensorSpec(shape=(), dtype=tf.resource, name=None)\n",
            "  137906069988528: TensorSpec(shape=(), dtype=tf.resource, name=None)\n",
            "  137906069988704: TensorSpec(shape=(), dtype=tf.resource, name=None)\n",
            "  137906069994688: TensorSpec(shape=(), dtype=tf.resource, name=None)\n",
            "  137906069994336: TensorSpec(shape=(), dtype=tf.resource, name=None)\n",
            "  137906070126112: TensorSpec(shape=(), dtype=tf.resource, name=None)\n",
            "  137906070119072: TensorSpec(shape=(), dtype=tf.resource, name=None)\n",
            "  137906070122592: TensorSpec(shape=(), dtype=tf.resource, name=None)\n",
            "  137906070122944: TensorSpec(shape=(), dtype=tf.resource, name=None)\n",
            "  137906140112224: TensorSpec(shape=(), dtype=tf.resource, name=None)\n",
            "  137906075720816: TensorSpec(shape=(), dtype=tf.resource, name=None)\n",
            "  137907182037728: TensorSpec(shape=(), dtype=tf.resource, name=None)\n",
            "  137906075716064: TensorSpec(shape=(), dtype=tf.resource, name=None)\n"
          ]
        }
      ]
    }
  ],
  "metadata": {
    "accelerator": "GPU",
    "colab": {
      "gpuType": "T4",
      "provenance": []
    },
    "kernelspec": {
      "display_name": "Python 3",
      "name": "python3"
    },
    "language_info": {
      "name": "python"
    }
  },
  "nbformat": 4,
  "nbformat_minor": 0
}